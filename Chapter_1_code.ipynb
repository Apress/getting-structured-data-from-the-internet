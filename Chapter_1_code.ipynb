{
 "cells": [
  {
   "cell_type": "code",
   "execution_count": null,
   "metadata": {},
   "outputs": [],
   "source": [
    "# Please use Python 3.6.4 or higher to run the code for this book"
   ]
  },
  {
   "cell_type": "code",
   "execution_count": 1,
   "metadata": {},
   "outputs": [
    {
     "name": "stdout",
     "output_type": "stream",
     "text": [
      "3.6.4\n"
     ]
    }
   ],
   "source": [
    "from platform import python_version\n",
    "\n",
    "print(python_version())"
   ]
  },
  {
   "cell_type": "code",
   "execution_count": 2,
   "metadata": {},
   "outputs": [
    {
     "name": "stdout",
     "output_type": "stream",
     "text": [
      "Status Code:  200\n",
      "********************\n",
      "{'Date': 'Mon, 14 Sep 2020 02:46:29 GMT', 'Content-Type': 'application/json; charset=UTF-8', 'Transfer-Encoding': 'chunked', 'Connection': 'keep-alive', 'Set-Cookie': '__cfduid=d5ef6813c602a438ff0acda5d7bf991a81600051588; expires=Wed, 14-Oct-20 02:46:28 GMT; path=/; domain=.pushshift.io; HttpOnly; SameSite=Lax', 'cache-control': 'public, max-age=1, s-maxage=1', 'Access-Control-Allow-Origin': '*', 'CF-Cache-Status': 'MISS', 'cf-request-id': '052c1ac60c0000e630523bc200000001', 'Expect-CT': 'max-age=604800, report-uri=\"https://report-uri.cloudflare.com/cdn-cgi/beacon/expect-ct\"', 'Vary': 'Accept-Encoding', 'Server': 'cloudflare', 'CF-RAY': '5d26c71cef37e630-LHR', 'Content-Encoding': 'gzip'}\n"
     ]
    }
   ],
   "source": [
    "# code block 1.1\n",
    "import requests\n",
    "import json\n",
    "\n",
    "\n",
    "test_url = 'https://api.pushshift.io/reddit/search/comment/?q=Exxon&subreddit=investing&size=100&after=1566302399&before=1575979199&sort=asc&metadata=True'\n",
    "\n",
    "r = requests.get(url = test_url)\n",
    "\n",
    "print(\"Status Code: \", r.status_code)\n",
    "print(\"*\"*20)\n",
    "print(r.headers)\n",
    "\n",
    "html_response = r.text"
   ]
  },
  {
   "cell_type": "code",
   "execution_count": 3,
   "metadata": {},
   "outputs": [
    {
     "data": {
      "text/plain": [
       "{'after': 1566302399,\n",
       " 'agg_size': 100,\n",
       " 'api_version': '3.0',\n",
       " 'before': 1575979199,\n",
       " 'es_query': {'query': {'bool': {'filter': {'bool': {'must': [{'terms': {'subreddit': ['investing']}},\n",
       "       {'range': {'created_utc': {'gt': 1566302399}}},\n",
       "       {'range': {'created_utc': {'lt': 1575979199}}},\n",
       "       {'simple_query_string': {'default_operator': 'and',\n",
       "         'fields': ['body'],\n",
       "         'query': 'Exxon'}}],\n",
       "      'should': []}},\n",
       "    'must_not': []}},\n",
       "  'size': 100,\n",
       "  'sort': {'created_utc': 'asc'}},\n",
       " 'execution_time_milliseconds': 61.19,\n",
       " 'index': 'rc_delta2',\n",
       " 'metadata': 'True',\n",
       " 'q': 'Exxon',\n",
       " 'ranges': [{'range': {'created_utc': {'gt': 1566302399}}},\n",
       "  {'range': {'created_utc': {'lt': 1575979199}}}],\n",
       " 'results_returned': 71,\n",
       " 'shards': {'failed': 0, 'skipped': 0, 'successful': 4, 'total': 4},\n",
       " 'size': 100,\n",
       " 'sort': 'asc',\n",
       " 'sort_type': 'created_utc',\n",
       " 'subreddit': ['investing'],\n",
       " 'timed_out': False,\n",
       " 'total_results': 71}"
      ]
     },
     "execution_count": 3,
     "metadata": {},
     "output_type": "execute_result"
    }
   ],
   "source": [
    "# code block 1.1 (cont.)\n",
    "\n",
    "with open(\"raw_pushshift_response.json\", \"w\") as outfile: \n",
    "    outfile.write(html_response) \n",
    "\n",
    "json_dict = json.loads(html_response)\n",
    "json_dict.keys()\n",
    "json_dict[\"metadata\"]"
   ]
  },
  {
   "cell_type": "code",
   "execution_count": 4,
   "metadata": {},
   "outputs": [
    {
     "data": {
      "text/plain": [
       "{'all_awardings': [],\n",
       " 'author': 'InquisitorCOC',\n",
       " 'author_flair_background_color': None,\n",
       " 'author_flair_css_class': None,\n",
       " 'author_flair_richtext': [],\n",
       " 'author_flair_template_id': None,\n",
       " 'author_flair_text': None,\n",
       " 'author_flair_text_color': None,\n",
       " 'author_flair_type': 'text',\n",
       " 'author_fullname': 't2_mesjk',\n",
       " 'author_patreon_flair': False,\n",
       " 'body': 'Individual stocks:\\n\\nBoeing and Lockheed: initially languished until 1974, then really took off and gained almost 100x by the end of the decade.\\n\\nHewlett-Packard: volatile, but generally a consistent winner throughout the decade, gained 15x.\\n\\nIntel: crashed &gt;70% during the worst of 1974, but bounced back very quickly and went on to be a multi bagger.\\n\\nOil stocks had done of course very well, Halliburton and Schlumberger were the low risk, low volatility, huge gain stocks of the decade. Exxon on the other hand had performed nowhere as well as these two.\\n\\nWashington Post: fought Nixon head on in 1973, stocks dropped big. More union troubles in 1975, but took off afterwards. Gained between 70x and 100x until 1982.\\n\\nOne cannot mention WaPo without mentioning Berkshire Hathaway. Buffett bought 10% in 1973, got himself elected to its board, and had been advising Cathy Graham. However, BRK was a very obscure and thinly traded stock back then, investors would have a hard time noticing it. Buffett himself said the annual meeting in 1978 all fit in one small cafeteria.\\n\\n\\n\\nOther asset classes:\\n\\nCommodities in general had performed exceedingly well. Gold went from 35 in 1970 all the way to 800 in 1980.\\n\\nReal Estate had done well. Those who had the foresight to buy in SF Bay Area did much much better than buying gold in 1970.',\n",
       " 'created_utc': 1566311377,\n",
       " 'gildings': {},\n",
       " 'id': 'exhpyj3',\n",
       " 'is_submitter': False,\n",
       " 'link_id': 't3_csylne',\n",
       " 'locked': False,\n",
       " 'no_follow': True,\n",
       " 'parent_id': 't3_csylne',\n",
       " 'permalink': '/r/investing/comments/csylne/what_were_the_best_investments_of_the_stagflation/exhpyj3/',\n",
       " 'retrieved_on': 1566311379,\n",
       " 'score': 1,\n",
       " 'send_replies': True,\n",
       " 'stickied': False,\n",
       " 'subreddit': 'investing',\n",
       " 'subreddit_id': 't5_2qhhq',\n",
       " 'total_awards_received': 0}"
      ]
     },
     "execution_count": 4,
     "metadata": {},
     "output_type": "execute_result"
    }
   ],
   "source": [
    "# code block 1.1 (cont.)\n",
    "\n",
    "json_dict[\"data\"][0]"
   ]
  },
  {
   "cell_type": "code",
   "execution_count": 5,
   "metadata": {},
   "outputs": [],
   "source": [
    "# code block 1.1 (cont.)\n",
    "\n",
    "date_list = []\n",
    "comment_list = []\n",
    "rows_list = []\n",
    "for i in range(len(json_dict[\"data\"])):\n",
    "    temp_dict = {}\n",
    "    temp_dict[\"id\"] = i\n",
    "    temp_dict[\"text\"] = json_dict[\"data\"][i]['body']\n",
    "    rows_list.append(temp_dict)\n",
    "    date_list.append(json_dict[\"data\"][i]['created_utc'])\n",
    "    comment_list.append(json_dict[\"data\"][i]['body'])\n",
    "sample_dict = {}\n",
    "sample_dict[\"documents\"] = rows_list\n",
    "payload = json.dumps(sample_dict)\n",
    "\n",
    "with open(\"sentiments_payload.json\", \"w\") as outfile: \n",
    "    outfile.write(payload) "
   ]
  },
  {
   "cell_type": "code",
   "execution_count": 7,
   "metadata": {},
   "outputs": [],
   "source": []
  },
  {
   "cell_type": "code",
   "execution_count": 7,
   "metadata": {},
   "outputs": [
    {
     "name": "stdout",
     "output_type": "stream",
     "text": [
      "Status Code:  200\n",
      "********************\n",
      "{'Date': 'Mon, 14 Sep 2020 02:46:29 GMT', 'Content-Type': 'application/json; charset=UTF-8', 'Transfer-Encoding': 'chunked', 'Connection': 'keep-alive', 'Set-Cookie': '__cfduid=d5ef6813c602a438ff0acda5d7bf991a81600051588; expires=Wed, 14-Oct-20 02:46:28 GMT; path=/; domain=.pushshift.io; HttpOnly; SameSite=Lax', 'cache-control': 'public, max-age=1, s-maxage=1', 'Access-Control-Allow-Origin': '*', 'CF-Cache-Status': 'MISS', 'cf-request-id': '052c1ac60c0000e630523bc200000001', 'Expect-CT': 'max-age=604800, report-uri=\"https://report-uri.cloudflare.com/cdn-cgi/beacon/expect-ct\"', 'Vary': 'Accept-Encoding', 'Server': 'cloudflare', 'CF-RAY': '5d26c71cef37e630-LHR', 'Content-Encoding': 'gzip'}\n"
     ]
    }
   ],
   "source": [
    "# code block 1.1 (cont.)\n",
    "\n",
    "url = 'https://api.algorithmia.com/v1/algo/specrom/GetSentimentsScorefromText/0.2.0?timeout=300'\n",
    "headers = {\n",
    "    \n",
    "    'Authorization': YOUR_ALGORITHMIA_KEY,\n",
    "    'content-type': \"application/json\",\n",
    "    'accept': \"application/json\"\n",
    "    }\n",
    "response = requests.request(\"POST\", url, data=payload, headers=headers)\n",
    "\n",
    "print(\"Status Code: \", r.status_code)\n",
    "print(\"*\"*20)\n",
    "print(r.headers)"
   ]
  },
  {
   "cell_type": "code",
   "execution_count": 8,
   "metadata": {},
   "outputs": [
    {
     "data": {
      "text/html": [
       "<div>\n",
       "<style scoped>\n",
       "    .dataframe tbody tr th:only-of-type {\n",
       "        vertical-align: middle;\n",
       "    }\n",
       "\n",
       "    .dataframe tbody tr th {\n",
       "        vertical-align: top;\n",
       "    }\n",
       "\n",
       "    .dataframe thead th {\n",
       "        text-align: right;\n",
       "    }\n",
       "</style>\n",
       "<table border=\"1\" class=\"dataframe\">\n",
       "  <thead>\n",
       "    <tr style=\"text-align: right;\">\n",
       "      <th></th>\n",
       "      <th>id</th>\n",
       "      <th>sentiments_score</th>\n",
       "    </tr>\n",
       "  </thead>\n",
       "  <tbody>\n",
       "    <tr>\n",
       "      <th>0</th>\n",
       "      <td>0</td>\n",
       "      <td>0.523785</td>\n",
       "    </tr>\n",
       "  </tbody>\n",
       "</table>\n",
       "</div>"
      ],
      "text/plain": [
       "   id  sentiments_score\n",
       "0   0          0.523785"
      ]
     },
     "execution_count": 8,
     "metadata": {},
     "output_type": "execute_result"
    }
   ],
   "source": [
    "# code block 1.1 (cont.)\n",
    "\n",
    "import numpy as np\n",
    "import pandas as pd\n",
    "\n",
    "df_sent = pd.DataFrame(json.loads(response.text)[\"result\"][\"documents\"])\n",
    "df_sent.head(1)"
   ]
  },
  {
   "cell_type": "code",
   "execution_count": 9,
   "metadata": {},
   "outputs": [
    {
     "data": {
      "text/html": [
       "<div>\n",
       "<style scoped>\n",
       "    .dataframe tbody tr th:only-of-type {\n",
       "        vertical-align: middle;\n",
       "    }\n",
       "\n",
       "    .dataframe tbody tr th {\n",
       "        vertical-align: top;\n",
       "    }\n",
       "\n",
       "    .dataframe thead th {\n",
       "        text-align: right;\n",
       "    }\n",
       "</style>\n",
       "<table border=\"1\" class=\"dataframe\">\n",
       "  <thead>\n",
       "    <tr style=\"text-align: right;\">\n",
       "      <th></th>\n",
       "      <th>id</th>\n",
       "      <th>sentiments_score</th>\n",
       "      <th>sentiments</th>\n",
       "    </tr>\n",
       "  </thead>\n",
       "  <tbody>\n",
       "    <tr>\n",
       "      <th>0</th>\n",
       "      <td>0</td>\n",
       "      <td>0.523785</td>\n",
       "      <td>neutral</td>\n",
       "    </tr>\n",
       "  </tbody>\n",
       "</table>\n",
       "</div>"
      ],
      "text/plain": [
       "   id  sentiments_score sentiments\n",
       "0   0          0.523785    neutral"
      ]
     },
     "execution_count": 9,
     "metadata": {},
     "output_type": "execute_result"
    }
   ],
   "source": [
    "# code block 1.1 (cont.)\n",
    "\n",
    "def get_sentiments(score):\n",
    "    \n",
    "    if score > 0.6:\n",
    "        return 'positive'\n",
    "    elif score < 0.4:\n",
    "        return 'negative'\n",
    "    else:\n",
    "        return 'neutral'\n",
    "    \n",
    "df_sent[\"sentiments\"]=df_sent[\"sentiments_score\"].apply(get_sentiments)\n",
    "df_sent.head(1)"
   ]
  },
  {
   "cell_type": "code",
   "execution_count": 10,
   "metadata": {},
   "outputs": [
    {
     "data": {
      "text/plain": [
       "Text(0.5,0,'Sentiments')"
      ]
     },
     "execution_count": 10,
     "metadata": {},
     "output_type": "execute_result"
    },
    {
     "data": {
      "image/png": "[encoded data removed]",
      "text/plain": [
       "<matplotlib.figure.Figure at 0x16452beabe0>"
      ]
     },
     "metadata": {},
     "output_type": "display_data"
    }
   ],
   "source": [
    "# code block 1.1 (cont.)\n",
    "\n",
    "import matplotlib.pyplot as plt\n",
    "import seaborn as sns\n",
    "\n",
    "sns.set()\n",
    "%matplotlib inline\n",
    "\n",
    "g = sns.countplot(df_sent[\"sentiments\"])\n",
    "loc, labels = plt.xticks()\n",
    "g.set_xticklabels(labels, rotation=90)\n",
    "g.set_title('Subreddit comments sentiment analysis')\n",
    "\n",
    "g.set_ylabel(\"Count\")\n",
    "g.set_xlabel(\"Sentiments\")"
   ]
  },
  {
   "cell_type": "code",
   "execution_count": 12,
   "metadata": {},
   "outputs": [],
   "source": []
  },
  {
   "cell_type": "code",
   "execution_count": 13,
   "metadata": {},
   "outputs": [
    {
     "name": "stdout",
     "output_type": "stream",
     "text": [
      "Status Code:  200\n",
      "********************\n",
      "{'Connection': 'keep-alive', 'Server': 'gunicorn/19.7.0', 'Date': 'Wed, 29 Apr 2020 04:15:07 GMT', 'Transfer-Encoding': 'chunked', 'Content-Type': 'application/x-download', 'Allow': 'GET, HEAD, OPTIONS', 'X-Frame-Options': 'SAMEORIGIN', 'Content-Disposition': 'attachment; filename=daily_adjusted_XOM.csv', 'Vary': 'Cookie', 'Via': '1.1 vegur'}\n"
     ]
    }
   ],
   "source": [
    "# code block 1.2\n",
    "# getting data from alphavantage\n",
    "\n",
    "import requests\n",
    "import json\n",
    "\n",
    "test_url = 'https://www.alphavantage.co/query?function=TIME_SERIES_DAILY_ADJUSTED&symbol=XOM&outputsize=full&apikey=' + API_KEY + '&datatype=csv'\n",
    "\n",
    "\n",
    "r = requests.get(url = test_url)\n",
    "print(\"Status Code: \", r.status_code)\n",
    "print(\"*\"*20)\n",
    "print(r.headers)\n",
    "html_response = r.text\n",
    "with open(\"exxon_stock.csv\", \"w\") as outfile: \n",
    "    outfile.write(html_response) "
   ]
  },
  {
   "cell_type": "code",
   "execution_count": 14,
   "metadata": {},
   "outputs": [
    {
     "data": {
      "text/html": [
       "<div>\n",
       "<style scoped>\n",
       "    .dataframe tbody tr th:only-of-type {\n",
       "        vertical-align: middle;\n",
       "    }\n",
       "\n",
       "    .dataframe tbody tr th {\n",
       "        vertical-align: top;\n",
       "    }\n",
       "\n",
       "    .dataframe thead th {\n",
       "        text-align: right;\n",
       "    }\n",
       "</style>\n",
       "<table border=\"1\" class=\"dataframe\">\n",
       "  <thead>\n",
       "    <tr style=\"text-align: right;\">\n",
       "      <th></th>\n",
       "      <th>timestamp</th>\n",
       "      <th>open</th>\n",
       "      <th>high</th>\n",
       "      <th>low</th>\n",
       "      <th>close</th>\n",
       "      <th>adjusted_close</th>\n",
       "      <th>volume</th>\n",
       "      <th>dividend_amount</th>\n",
       "      <th>split_coefficient</th>\n",
       "    </tr>\n",
       "  </thead>\n",
       "  <tbody>\n",
       "    <tr>\n",
       "      <th>95</th>\n",
       "      <td>2019-12-10</td>\n",
       "      <td>69.66</td>\n",
       "      <td>70.15</td>\n",
       "      <td>68.7</td>\n",
       "      <td>69.06</td>\n",
       "      <td>68.0723</td>\n",
       "      <td>14281286</td>\n",
       "      <td>0.0</td>\n",
       "      <td>1.0</td>\n",
       "    </tr>\n",
       "  </tbody>\n",
       "</table>\n",
       "</div>"
      ],
      "text/plain": [
       "    timestamp   open   high   low  close  adjusted_close    volume  \\\n",
       "95 2019-12-10  69.66  70.15  68.7  69.06         68.0723  14281286   \n",
       "\n",
       "    dividend_amount  split_coefficient  \n",
       "95              0.0                1.0  "
      ]
     },
     "execution_count": 14,
     "metadata": {},
     "output_type": "execute_result"
    }
   ],
   "source": [
    "# code block 1.2 (Cont.)\n",
    "\n",
    "import numpy as np\n",
    "import pandas as pd\n",
    "\n",
    "import matplotlib.pyplot as plt\n",
    "import seaborn as sns\n",
    "\n",
    "from dateutil import parser\n",
    "datetime_obj = lambda x: parser.parse(x)\n",
    "\n",
    "df = pd.read_csv(\"exxon_stock.csv\", parse_dates=['timestamp'], date_parser=datetime_obj)\n",
    "start_date = pd.to_datetime(date_list[0], unit='s')\n",
    "end_date = pd.to_datetime(date_list[-1], unit='s')\n",
    "df = df[(df[\"timestamp\"] >= start_date) & (df[\"timestamp\"] <= end_date)]\n",
    "\n",
    "df.head(1)\n",
    "# Output"
   ]
  },
  {
   "cell_type": "code",
   "execution_count": 15,
   "metadata": {},
   "outputs": [
    {
     "data": {
      "image/png": "[encoded data removed]",
      "text/plain": [
       "<matplotlib.figure.Figure at 0x1fcf3f7c470>"
      ]
     },
     "metadata": {},
     "output_type": "display_data"
    }
   ],
   "source": [
    "# code block 1.2 (Cont.)\n",
    "\n",
    "# Plotting stock and volume\n",
    "\n",
    "top = plt.subplot2grid((4,4), (0, 0), rowspan=3, colspan=4)\n",
    "top.plot(df['timestamp'], df['close'], label = 'Closing price')\n",
    "plt.title('Exxon Close Price')\n",
    "plt.legend(loc=2)\n",
    "bottom = plt.subplot2grid((4,4), (3,0), rowspan=1, colspan=4)\n",
    "bottom.bar(df[\"timestamp\"], df[\"volume\"])\n",
    "plt.title('Exxon Daily Trading Volume')\n",
    "plt.gcf().set_size_inches(12,8)\n",
    "plt.subplots_adjust(hspace=0.75)"
   ]
  },
  {
   "cell_type": "code",
   "execution_count": null,
   "metadata": {},
   "outputs": [],
   "source": []
  }
 ],
 "metadata": {
  "kernelspec": {
   "display_name": "Python 3",
   "language": "python",
   "name": "python3"
  },
  "language_info": {
   "codemirror_mode": {
    "name": "ipython",
    "version": 3
   },
   "file_extension": ".py",
   "mimetype": "text/x-python",
   "name": "python",
   "nbconvert_exporter": "python",
   "pygments_lexer": "ipython3",
   "version": "3.6.4"
  }
 },
 "nbformat": 4,
 "nbformat_minor": 2
}
